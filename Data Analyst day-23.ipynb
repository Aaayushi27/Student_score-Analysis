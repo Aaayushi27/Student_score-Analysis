{
 "cells": [
  {
   "cell_type": "markdown",
   "id": "2ba8559f",
   "metadata": {},
   "source": [
    "# Student Score Analysis Project"
   ]
  },
  {
   "cell_type": "markdown",
   "id": "7ab0876d",
   "metadata": {},
   "source": [
    "# importing libraries"
   ]
  },
  {
   "cell_type": "code",
   "execution_count": 4,
   "id": "5a036fb6",
   "metadata": {},
   "outputs": [],
   "source": [
    "import pandas as pd\n",
    "import numpy as np\n",
    "import seaborn as sns\n",
    "import matplotlib.pyplot as plt"
   ]
  },
  {
   "cell_type": "code",
   "execution_count": 5,
   "id": "49737595",
   "metadata": {},
   "outputs": [],
   "source": [
    "df=pd.read_csv('students_data.csv')"
   ]
  },
  {
   "cell_type": "code",
   "execution_count": 6,
   "id": "84c29e17",
   "metadata": {},
   "outputs": [
    {
     "data": {
      "text/html": [
       "<div>\n",
       "<style scoped>\n",
       "    .dataframe tbody tr th:only-of-type {\n",
       "        vertical-align: middle;\n",
       "    }\n",
       "\n",
       "    .dataframe tbody tr th {\n",
       "        vertical-align: top;\n",
       "    }\n",
       "\n",
       "    .dataframe thead th {\n",
       "        text-align: right;\n",
       "    }\n",
       "</style>\n",
       "<table border=\"1\" class=\"dataframe\">\n",
       "  <thead>\n",
       "    <tr style=\"text-align: right;\">\n",
       "      <th></th>\n",
       "      <th>YearofStudy</th>\n",
       "      <th>Course</th>\n",
       "      <th>Age</th>\n",
       "      <th>ApproxHeight</th>\n",
       "      <th>ApproxWeight</th>\n",
       "      <th>KCSE</th>\n",
       "      <th>Yr_JoinCampus</th>\n",
       "      <th>SitKCSE</th>\n",
       "      <th>Expense_Semester</th>\n",
       "      <th>Expense_Accommodation</th>\n",
       "      <th>Previous_Exam_MeanGrade</th>\n",
       "    </tr>\n",
       "  </thead>\n",
       "  <tbody>\n",
       "    <tr>\n",
       "      <th>0</th>\n",
       "      <td>Second Year</td>\n",
       "      <td>MATHEMATICS</td>\n",
       "      <td>20</td>\n",
       "      <td>152</td>\n",
       "      <td>80</td>\n",
       "      <td>2016</td>\n",
       "      <td>2018</td>\n",
       "      <td>Central</td>\n",
       "      <td>8744</td>\n",
       "      <td>6043</td>\n",
       "      <td>B</td>\n",
       "    </tr>\n",
       "    <tr>\n",
       "      <th>1</th>\n",
       "      <td>First Year</td>\n",
       "      <td>ECONOMICS AND STATISTICS</td>\n",
       "      <td>29</td>\n",
       "      <td>182</td>\n",
       "      <td>79</td>\n",
       "      <td>2010</td>\n",
       "      <td>2010</td>\n",
       "      <td>Rift Valley</td>\n",
       "      <td>26293</td>\n",
       "      <td>14782</td>\n",
       "      <td>B</td>\n",
       "    </tr>\n",
       "    <tr>\n",
       "      <th>2</th>\n",
       "      <td>Fourth Year</td>\n",
       "      <td>MATHEMATICS</td>\n",
       "      <td>22</td>\n",
       "      <td>167</td>\n",
       "      <td>64</td>\n",
       "      <td>2015</td>\n",
       "      <td>2016</td>\n",
       "      <td>Western</td>\n",
       "      <td>44105</td>\n",
       "      <td>19224</td>\n",
       "      <td>B</td>\n",
       "    </tr>\n",
       "    <tr>\n",
       "      <th>3</th>\n",
       "      <td>Second Year</td>\n",
       "      <td>ECONOMICS AND STATISTICS</td>\n",
       "      <td>23</td>\n",
       "      <td>149</td>\n",
       "      <td>52</td>\n",
       "      <td>2016</td>\n",
       "      <td>2018</td>\n",
       "      <td>Coast</td>\n",
       "      <td>33954</td>\n",
       "      <td>18795</td>\n",
       "      <td>B</td>\n",
       "    </tr>\n",
       "    <tr>\n",
       "      <th>4</th>\n",
       "      <td>Second Year</td>\n",
       "      <td>MATHEMATICS</td>\n",
       "      <td>18</td>\n",
       "      <td>150</td>\n",
       "      <td>70</td>\n",
       "      <td>2013</td>\n",
       "      <td>2018</td>\n",
       "      <td>Western</td>\n",
       "      <td>18113</td>\n",
       "      <td>25569</td>\n",
       "      <td>A</td>\n",
       "    </tr>\n",
       "    <tr>\n",
       "      <th>...</th>\n",
       "      <td>...</td>\n",
       "      <td>...</td>\n",
       "      <td>...</td>\n",
       "      <td>...</td>\n",
       "      <td>...</td>\n",
       "      <td>...</td>\n",
       "      <td>...</td>\n",
       "      <td>...</td>\n",
       "      <td>...</td>\n",
       "      <td>...</td>\n",
       "      <td>...</td>\n",
       "    </tr>\n",
       "    <tr>\n",
       "      <th>57</th>\n",
       "      <td>Fourth Year</td>\n",
       "      <td>MATHEMATICS</td>\n",
       "      <td>25</td>\n",
       "      <td>142</td>\n",
       "      <td>66</td>\n",
       "      <td>2015</td>\n",
       "      <td>2016</td>\n",
       "      <td>Eastern</td>\n",
       "      <td>21556</td>\n",
       "      <td>15814</td>\n",
       "      <td>C</td>\n",
       "    </tr>\n",
       "    <tr>\n",
       "      <th>58</th>\n",
       "      <td>Fourth Year</td>\n",
       "      <td>MATHEMATICS</td>\n",
       "      <td>23</td>\n",
       "      <td>171</td>\n",
       "      <td>55</td>\n",
       "      <td>2015</td>\n",
       "      <td>2016</td>\n",
       "      <td>Rift Valley</td>\n",
       "      <td>36226</td>\n",
       "      <td>3536</td>\n",
       "      <td>C</td>\n",
       "    </tr>\n",
       "    <tr>\n",
       "      <th>59</th>\n",
       "      <td>Third Year</td>\n",
       "      <td>ECONOMICS AND STATISTICS</td>\n",
       "      <td>22</td>\n",
       "      <td>174</td>\n",
       "      <td>77</td>\n",
       "      <td>2016</td>\n",
       "      <td>2017</td>\n",
       "      <td>Coast</td>\n",
       "      <td>48495</td>\n",
       "      <td>31425</td>\n",
       "      <td>B</td>\n",
       "    </tr>\n",
       "    <tr>\n",
       "      <th>60</th>\n",
       "      <td>Third Year</td>\n",
       "      <td>STATISTICS</td>\n",
       "      <td>21</td>\n",
       "      <td>142</td>\n",
       "      <td>64</td>\n",
       "      <td>2016</td>\n",
       "      <td>2017</td>\n",
       "      <td>Nyanza</td>\n",
       "      <td>36492</td>\n",
       "      <td>34995</td>\n",
       "      <td>B</td>\n",
       "    </tr>\n",
       "    <tr>\n",
       "      <th>61</th>\n",
       "      <td>Third Year</td>\n",
       "      <td>STATISTICS</td>\n",
       "      <td>22</td>\n",
       "      <td>141</td>\n",
       "      <td>58</td>\n",
       "      <td>2016</td>\n",
       "      <td>2017</td>\n",
       "      <td>Eastern</td>\n",
       "      <td>9222</td>\n",
       "      <td>31360</td>\n",
       "      <td>B</td>\n",
       "    </tr>\n",
       "  </tbody>\n",
       "</table>\n",
       "<p>62 rows × 11 columns</p>\n",
       "</div>"
      ],
      "text/plain": [
       "    YearofStudy                    Course  Age  ApproxHeight  ApproxWeight  \\\n",
       "0   Second Year               MATHEMATICS   20           152            80   \n",
       "1    First Year  ECONOMICS AND STATISTICS   29           182            79   \n",
       "2   Fourth Year               MATHEMATICS   22           167            64   \n",
       "3   Second Year  ECONOMICS AND STATISTICS   23           149            52   \n",
       "4   Second Year               MATHEMATICS   18           150            70   \n",
       "..          ...                       ...  ...           ...           ...   \n",
       "57  Fourth Year               MATHEMATICS   25           142            66   \n",
       "58  Fourth Year               MATHEMATICS   23           171            55   \n",
       "59   Third Year  ECONOMICS AND STATISTICS   22           174            77   \n",
       "60   Third Year                STATISTICS   21           142            64   \n",
       "61   Third Year                STATISTICS   22           141            58   \n",
       "\n",
       "    KCSE  Yr_JoinCampus      SitKCSE  Expense_Semester  Expense_Accommodation  \\\n",
       "0   2016           2018     Central               8744                   6043   \n",
       "1   2010           2010  Rift Valley             26293                  14782   \n",
       "2   2015           2016      Western             44105                  19224   \n",
       "3   2016           2018        Coast             33954                  18795   \n",
       "4   2013           2018      Western             18113                  25569   \n",
       "..   ...            ...          ...               ...                    ...   \n",
       "57  2015           2016     Eastern              21556                  15814   \n",
       "58  2015           2016  Rift Valley             36226                   3536   \n",
       "59  2016           2017        Coast             48495                  31425   \n",
       "60  2016           2017       Nyanza             36492                  34995   \n",
       "61  2016           2017     Eastern               9222                  31360   \n",
       "\n",
       "   Previous_Exam_MeanGrade  \n",
       "0                        B  \n",
       "1                        B  \n",
       "2                        B  \n",
       "3                        B  \n",
       "4                        A  \n",
       "..                     ...  \n",
       "57                       C  \n",
       "58                       C  \n",
       "59                       B  \n",
       "60                       B  \n",
       "61                       B  \n",
       "\n",
       "[62 rows x 11 columns]"
      ]
     },
     "execution_count": 6,
     "metadata": {},
     "output_type": "execute_result"
    }
   ],
   "source": [
    "df"
   ]
  },
  {
   "cell_type": "markdown",
   "id": "1a208b9b",
   "metadata": {},
   "source": [
    "# viewing top 5 rows of the data"
   ]
  },
  {
   "cell_type": "code",
   "execution_count": 5,
   "id": "8ec24e20",
   "metadata": {},
   "outputs": [
    {
     "name": "stdout",
     "output_type": "stream",
     "text": [
      "   YearofStudy                    Course  Age  ApproxHeight  ApproxWeight  \\\n",
      "0  Second Year               MATHEMATICS   20           152            80   \n",
      "1   First Year  ECONOMICS AND STATISTICS   29           182            79   \n",
      "2  Fourth Year               MATHEMATICS   22           167            64   \n",
      "3  Second Year  ECONOMICS AND STATISTICS   23           149            52   \n",
      "4  Second Year               MATHEMATICS   18           150            70   \n",
      "\n",
      "   KCSE  Yr_JoinCampus      SitKCSE  Expense_Semester  Expense_Accommodation  \\\n",
      "0  2016           2018     Central               8744                   6043   \n",
      "1  2010           2010  Rift Valley             26293                  14782   \n",
      "2  2015           2016      Western             44105                  19224   \n",
      "3  2016           2018        Coast             33954                  18795   \n",
      "4  2013           2018      Western             18113                  25569   \n",
      "\n",
      "  Previous_Exam_MeanGrade  \n",
      "0                       B  \n",
      "1                       B  \n",
      "2                       B  \n",
      "3                       B  \n",
      "4                       A  \n"
     ]
    }
   ],
   "source": [
    "print(df.head())"
   ]
  },
  {
   "cell_type": "markdown",
   "id": "9691ab11",
   "metadata": {},
   "source": [
    "# Getting to know statistics of the data"
   ]
  },
  {
   "cell_type": "code",
   "execution_count": 6,
   "id": "34344b27",
   "metadata": {},
   "outputs": [
    {
     "data": {
      "text/html": [
       "<div>\n",
       "<style scoped>\n",
       "    .dataframe tbody tr th:only-of-type {\n",
       "        vertical-align: middle;\n",
       "    }\n",
       "\n",
       "    .dataframe tbody tr th {\n",
       "        vertical-align: top;\n",
       "    }\n",
       "\n",
       "    .dataframe thead th {\n",
       "        text-align: right;\n",
       "    }\n",
       "</style>\n",
       "<table border=\"1\" class=\"dataframe\">\n",
       "  <thead>\n",
       "    <tr style=\"text-align: right;\">\n",
       "      <th></th>\n",
       "      <th>Age</th>\n",
       "      <th>ApproxHeight</th>\n",
       "      <th>ApproxWeight</th>\n",
       "      <th>KCSE</th>\n",
       "      <th>Yr_JoinCampus</th>\n",
       "      <th>Expense_Semester</th>\n",
       "      <th>Expense_Accommodation</th>\n",
       "    </tr>\n",
       "  </thead>\n",
       "  <tbody>\n",
       "    <tr>\n",
       "      <th>count</th>\n",
       "      <td>62.00000</td>\n",
       "      <td>62.000000</td>\n",
       "      <td>62.000000</td>\n",
       "      <td>62.000000</td>\n",
       "      <td>62.000000</td>\n",
       "      <td>62.000000</td>\n",
       "      <td>62.000000</td>\n",
       "    </tr>\n",
       "    <tr>\n",
       "      <th>mean</th>\n",
       "      <td>22.16129</td>\n",
       "      <td>158.064516</td>\n",
       "      <td>62.161290</td>\n",
       "      <td>2015.290323</td>\n",
       "      <td>2016.419355</td>\n",
       "      <td>28208.209677</td>\n",
       "      <td>25530.564516</td>\n",
       "    </tr>\n",
       "    <tr>\n",
       "      <th>std</th>\n",
       "      <td>2.47077</td>\n",
       "      <td>13.583827</td>\n",
       "      <td>9.970766</td>\n",
       "      <td>1.796053</td>\n",
       "      <td>2.076791</td>\n",
       "      <td>13259.171599</td>\n",
       "      <td>12728.001670</td>\n",
       "    </tr>\n",
       "    <tr>\n",
       "      <th>min</th>\n",
       "      <td>18.00000</td>\n",
       "      <td>122.000000</td>\n",
       "      <td>45.000000</td>\n",
       "      <td>2010.000000</td>\n",
       "      <td>2010.000000</td>\n",
       "      <td>6171.000000</td>\n",
       "      <td>3536.000000</td>\n",
       "    </tr>\n",
       "    <tr>\n",
       "      <th>25%</th>\n",
       "      <td>21.00000</td>\n",
       "      <td>149.250000</td>\n",
       "      <td>54.000000</td>\n",
       "      <td>2015.000000</td>\n",
       "      <td>2016.000000</td>\n",
       "      <td>18199.250000</td>\n",
       "      <td>14706.250000</td>\n",
       "    </tr>\n",
       "    <tr>\n",
       "      <th>50%</th>\n",
       "      <td>22.00000</td>\n",
       "      <td>157.000000</td>\n",
       "      <td>59.500000</td>\n",
       "      <td>2016.000000</td>\n",
       "      <td>2017.000000</td>\n",
       "      <td>28424.000000</td>\n",
       "      <td>25814.000000</td>\n",
       "    </tr>\n",
       "    <tr>\n",
       "      <th>75%</th>\n",
       "      <td>23.00000</td>\n",
       "      <td>167.000000</td>\n",
       "      <td>68.750000</td>\n",
       "      <td>2016.000000</td>\n",
       "      <td>2017.000000</td>\n",
       "      <td>37753.500000</td>\n",
       "      <td>35681.250000</td>\n",
       "    </tr>\n",
       "    <tr>\n",
       "      <th>max</th>\n",
       "      <td>34.00000</td>\n",
       "      <td>200.000000</td>\n",
       "      <td>80.000000</td>\n",
       "      <td>2018.000000</td>\n",
       "      <td>2019.000000</td>\n",
       "      <td>49155.000000</td>\n",
       "      <td>48633.000000</td>\n",
       "    </tr>\n",
       "  </tbody>\n",
       "</table>\n",
       "</div>"
      ],
      "text/plain": [
       "            Age  ApproxHeight  ApproxWeight         KCSE  Yr_JoinCampus  \\\n",
       "count  62.00000     62.000000     62.000000    62.000000      62.000000   \n",
       "mean   22.16129    158.064516     62.161290  2015.290323    2016.419355   \n",
       "std     2.47077     13.583827      9.970766     1.796053       2.076791   \n",
       "min    18.00000    122.000000     45.000000  2010.000000    2010.000000   \n",
       "25%    21.00000    149.250000     54.000000  2015.000000    2016.000000   \n",
       "50%    22.00000    157.000000     59.500000  2016.000000    2017.000000   \n",
       "75%    23.00000    167.000000     68.750000  2016.000000    2017.000000   \n",
       "max    34.00000    200.000000     80.000000  2018.000000    2019.000000   \n",
       "\n",
       "       Expense_Semester  Expense_Accommodation  \n",
       "count         62.000000              62.000000  \n",
       "mean       28208.209677           25530.564516  \n",
       "std        13259.171599           12728.001670  \n",
       "min         6171.000000            3536.000000  \n",
       "25%        18199.250000           14706.250000  \n",
       "50%        28424.000000           25814.000000  \n",
       "75%        37753.500000           35681.250000  \n",
       "max        49155.000000           48633.000000  "
      ]
     },
     "execution_count": 6,
     "metadata": {},
     "output_type": "execute_result"
    }
   ],
   "source": [
    "df.describe()"
   ]
  },
  {
   "cell_type": "code",
   "execution_count": 7,
   "id": "16cbd23b",
   "metadata": {},
   "outputs": [
    {
     "name": "stdout",
     "output_type": "stream",
     "text": [
      "<class 'pandas.core.frame.DataFrame'>\n",
      "RangeIndex: 62 entries, 0 to 61\n",
      "Data columns (total 11 columns):\n",
      " #   Column                   Non-Null Count  Dtype \n",
      "---  ------                   --------------  ----- \n",
      " 0   YearofStudy              62 non-null     object\n",
      " 1   Course                   62 non-null     object\n",
      " 2   Age                      62 non-null     int64 \n",
      " 3   ApproxHeight             62 non-null     int64 \n",
      " 4   ApproxWeight             62 non-null     int64 \n",
      " 5   KCSE                     62 non-null     int64 \n",
      " 6   Yr_JoinCampus            62 non-null     int64 \n",
      " 7   SitKCSE                  62 non-null     object\n",
      " 8   Expense_Semester         62 non-null     int64 \n",
      " 9   Expense_Accommodation    62 non-null     int64 \n",
      " 10  Previous_Exam_MeanGrade  62 non-null     object\n",
      "dtypes: int64(7), object(4)\n",
      "memory usage: 5.5+ KB\n"
     ]
    }
   ],
   "source": [
    "df.info()"
   ]
  },
  {
   "cell_type": "code",
   "execution_count": 8,
   "id": "4eaa6309",
   "metadata": {},
   "outputs": [
    {
     "data": {
      "text/plain": [
       "YearofStudy                0\n",
       "Course                     0\n",
       "Age                        0\n",
       "ApproxHeight               0\n",
       "ApproxWeight               0\n",
       "KCSE                       0\n",
       "Yr_JoinCampus              0\n",
       "SitKCSE                    0\n",
       "Expense_Semester           0\n",
       "Expense_Accommodation      0\n",
       "Previous_Exam_MeanGrade    0\n",
       "dtype: int64"
      ]
     },
     "execution_count": 8,
     "metadata": {},
     "output_type": "execute_result"
    }
   ],
   "source": [
    "df.isnull().sum()"
   ]
  },
  {
   "cell_type": "markdown",
   "id": "a1a8ea74",
   "metadata": {},
   "source": [
    "# Transforming the wrongly formatted data"
   ]
  },
  {
   "cell_type": "code",
   "execution_count": 34,
   "id": "f895e879",
   "metadata": {},
   "outputs": [],
   "source": [
    "df['SitKCSE']=df['SitKCSE'].str.replace('SitKCSE','Region')"
   ]
  },
  {
   "cell_type": "code",
   "execution_count": 32,
   "id": "db4f826e",
   "metadata": {},
   "outputs": [
    {
     "data": {
      "text/html": [
       "<div>\n",
       "<style scoped>\n",
       "    .dataframe tbody tr th:only-of-type {\n",
       "        vertical-align: middle;\n",
       "    }\n",
       "\n",
       "    .dataframe tbody tr th {\n",
       "        vertical-align: top;\n",
       "    }\n",
       "\n",
       "    .dataframe thead th {\n",
       "        text-align: right;\n",
       "    }\n",
       "</style>\n",
       "<table border=\"1\" class=\"dataframe\">\n",
       "  <thead>\n",
       "    <tr style=\"text-align: right;\">\n",
       "      <th></th>\n",
       "      <th>YearofStudy</th>\n",
       "      <th>Course</th>\n",
       "      <th>Age</th>\n",
       "      <th>ApproxHeight</th>\n",
       "      <th>ApproxWeight</th>\n",
       "      <th>KCSE</th>\n",
       "      <th>Yr_JoinCampus</th>\n",
       "      <th>SitKCSE</th>\n",
       "      <th>Expense_Semester</th>\n",
       "      <th>Expense_Accommodation</th>\n",
       "      <th>Previous_Exam_MeanGrade</th>\n",
       "    </tr>\n",
       "  </thead>\n",
       "  <tbody>\n",
       "    <tr>\n",
       "      <th>0</th>\n",
       "      <td>Second Year</td>\n",
       "      <td>MATHEMATICS</td>\n",
       "      <td>20</td>\n",
       "      <td>152</td>\n",
       "      <td>80</td>\n",
       "      <td>2016</td>\n",
       "      <td>2018</td>\n",
       "      <td>Central</td>\n",
       "      <td>8744</td>\n",
       "      <td>6043</td>\n",
       "      <td>B</td>\n",
       "    </tr>\n",
       "    <tr>\n",
       "      <th>1</th>\n",
       "      <td>First Year</td>\n",
       "      <td>ECONOMICS AND STATISTICS</td>\n",
       "      <td>29</td>\n",
       "      <td>182</td>\n",
       "      <td>79</td>\n",
       "      <td>2010</td>\n",
       "      <td>2010</td>\n",
       "      <td>Rift Valley</td>\n",
       "      <td>26293</td>\n",
       "      <td>14782</td>\n",
       "      <td>B</td>\n",
       "    </tr>\n",
       "    <tr>\n",
       "      <th>2</th>\n",
       "      <td>Fourth Year</td>\n",
       "      <td>MATHEMATICS</td>\n",
       "      <td>22</td>\n",
       "      <td>167</td>\n",
       "      <td>64</td>\n",
       "      <td>2015</td>\n",
       "      <td>2016</td>\n",
       "      <td>Western</td>\n",
       "      <td>44105</td>\n",
       "      <td>19224</td>\n",
       "      <td>B</td>\n",
       "    </tr>\n",
       "    <tr>\n",
       "      <th>3</th>\n",
       "      <td>Second Year</td>\n",
       "      <td>ECONOMICS AND STATISTICS</td>\n",
       "      <td>23</td>\n",
       "      <td>149</td>\n",
       "      <td>52</td>\n",
       "      <td>2016</td>\n",
       "      <td>2018</td>\n",
       "      <td>Coast</td>\n",
       "      <td>33954</td>\n",
       "      <td>18795</td>\n",
       "      <td>B</td>\n",
       "    </tr>\n",
       "    <tr>\n",
       "      <th>4</th>\n",
       "      <td>Second Year</td>\n",
       "      <td>MATHEMATICS</td>\n",
       "      <td>18</td>\n",
       "      <td>150</td>\n",
       "      <td>70</td>\n",
       "      <td>2013</td>\n",
       "      <td>2018</td>\n",
       "      <td>Western</td>\n",
       "      <td>18113</td>\n",
       "      <td>25569</td>\n",
       "      <td>A</td>\n",
       "    </tr>\n",
       "  </tbody>\n",
       "</table>\n",
       "</div>"
      ],
      "text/plain": [
       "   YearofStudy                    Course  Age  ApproxHeight  ApproxWeight  \\\n",
       "0  Second Year               MATHEMATICS   20           152            80   \n",
       "1   First Year  ECONOMICS AND STATISTICS   29           182            79   \n",
       "2  Fourth Year               MATHEMATICS   22           167            64   \n",
       "3  Second Year  ECONOMICS AND STATISTICS   23           149            52   \n",
       "4  Second Year               MATHEMATICS   18           150            70   \n",
       "\n",
       "   KCSE  Yr_JoinCampus      SitKCSE  Expense_Semester  Expense_Accommodation  \\\n",
       "0  2016           2018     Central               8744                   6043   \n",
       "1  2010           2010  Rift Valley             26293                  14782   \n",
       "2  2015           2016      Western             44105                  19224   \n",
       "3  2016           2018        Coast             33954                  18795   \n",
       "4  2013           2018      Western             18113                  25569   \n",
       "\n",
       "  Previous_Exam_MeanGrade  \n",
       "0                       B  \n",
       "1                       B  \n",
       "2                       B  \n",
       "3                       B  \n",
       "4                       A  "
      ]
     },
     "execution_count": 32,
     "metadata": {},
     "output_type": "execute_result"
    }
   ],
   "source": [
    "df.head()"
   ]
  },
  {
   "cell_type": "markdown",
   "id": "bcdcad04",
   "metadata": {},
   "source": [
    "# yearofStudy Distribution"
   ]
  },
  {
   "cell_type": "code",
   "execution_count": 12,
   "id": "f9f42094",
   "metadata": {},
   "outputs": [
    {
     "data": {
      "image/png": "[encoded data removed]",
      "text/plain": [
       "<Figure size 1400x700 with 1 Axes>"
      ]
     },
     "metadata": {},
     "output_type": "display_data"
    }
   ],
   "source": [
    "plt.figure(figsize=(14,7))\n",
    "custom_palette={'First Year':'red','Second Year':'yellow','Third Year':'green','Fourth Year':'blue'}\n",
    "random = sns.countplot(data = df,x = \"YearofStudy\" , palette=custom_palette)\n",
    "random.bar_label(random.containers[0])\n",
    "plt.show()"
   ]
  },
  {
   "cell_type": "markdown",
   "id": "439b53b8",
   "metadata": {},
   "source": [
    "# Insight: First Year students are lesser in no. and Fourth Year are greater in no."
   ]
  },
  {
   "cell_type": "markdown",
   "id": "88bf6278",
   "metadata": {},
   "source": [
    "# Finding the Expense of every course"
   ]
  },
  {
   "cell_type": "code",
   "execution_count": 18,
   "id": "6e6c5a8f",
   "metadata": {},
   "outputs": [],
   "source": [
    "gb=df.groupby(\"Course\").agg({'Expense_Semester':'mean','Expense_Accommodation':'mean'})"
   ]
  },
  {
   "cell_type": "code",
   "execution_count": 19,
   "id": "4de3e999",
   "metadata": {},
   "outputs": [
    {
     "data": {
      "text/html": [
       "<div>\n",
       "<style scoped>\n",
       "    .dataframe tbody tr th:only-of-type {\n",
       "        vertical-align: middle;\n",
       "    }\n",
       "\n",
       "    .dataframe tbody tr th {\n",
       "        vertical-align: top;\n",
       "    }\n",
       "\n",
       "    .dataframe thead th {\n",
       "        text-align: right;\n",
       "    }\n",
       "</style>\n",
       "<table border=\"1\" class=\"dataframe\">\n",
       "  <thead>\n",
       "    <tr style=\"text-align: right;\">\n",
       "      <th></th>\n",
       "      <th>Expense_Semester</th>\n",
       "      <th>Expense_Accommodation</th>\n",
       "    </tr>\n",
       "    <tr>\n",
       "      <th>Course</th>\n",
       "      <th></th>\n",
       "      <th></th>\n",
       "    </tr>\n",
       "  </thead>\n",
       "  <tbody>\n",
       "    <tr>\n",
       "      <th>ACTUARIAL SCIENCE</th>\n",
       "      <td>22756.500000</td>\n",
       "      <td>23084.000000</td>\n",
       "    </tr>\n",
       "    <tr>\n",
       "      <th>APPLIED MATHEMATICS</th>\n",
       "      <td>27388.500000</td>\n",
       "      <td>27660.500000</td>\n",
       "    </tr>\n",
       "    <tr>\n",
       "      <th>ECONOMICS</th>\n",
       "      <td>37920.000000</td>\n",
       "      <td>35090.500000</td>\n",
       "    </tr>\n",
       "    <tr>\n",
       "      <th>ECONOMICS AND STATISTICS</th>\n",
       "      <td>30475.250000</td>\n",
       "      <td>23974.166667</td>\n",
       "    </tr>\n",
       "    <tr>\n",
       "      <th>ELECTRICAL ENGINEERING</th>\n",
       "      <td>42498.000000</td>\n",
       "      <td>27601.000000</td>\n",
       "    </tr>\n",
       "    <tr>\n",
       "      <th>MATHEMATICS</th>\n",
       "      <td>27761.333333</td>\n",
       "      <td>25553.125000</td>\n",
       "    </tr>\n",
       "    <tr>\n",
       "      <th>STATISTICS</th>\n",
       "      <td>25136.357143</td>\n",
       "      <td>24658.357143</td>\n",
       "    </tr>\n",
       "    <tr>\n",
       "      <th>URBAN PLANNING</th>\n",
       "      <td>29193.000000</td>\n",
       "      <td>31836.500000</td>\n",
       "    </tr>\n",
       "  </tbody>\n",
       "</table>\n",
       "</div>"
      ],
      "text/plain": [
       "                          Expense_Semester  Expense_Accommodation\n",
       "Course                                                           \n",
       "ACTUARIAL SCIENCE             22756.500000           23084.000000\n",
       "APPLIED MATHEMATICS           27388.500000           27660.500000\n",
       "ECONOMICS                     37920.000000           35090.500000\n",
       "ECONOMICS AND STATISTICS      30475.250000           23974.166667\n",
       "ELECTRICAL ENGINEERING        42498.000000           27601.000000\n",
       "MATHEMATICS                   27761.333333           25553.125000\n",
       "STATISTICS                    25136.357143           24658.357143\n",
       "URBAN PLANNING                29193.000000           31836.500000"
      ]
     },
     "execution_count": 19,
     "metadata": {},
     "output_type": "execute_result"
    }
   ],
   "source": [
    "gb"
   ]
  },
  {
   "cell_type": "code",
   "execution_count": 23,
   "id": "3c85695f",
   "metadata": {},
   "outputs": [
    {
     "data": {
      "image/png": "[encoded data removed]",
      "text/plain": [
       "<Figure size 1000x700 with 2 Axes>"
      ]
     },
     "metadata": {},
     "output_type": "display_data"
    }
   ],
   "source": [
    "plt.figure(figsize=(10,7))\n",
    "sns.heatmap(gb,annot=True)\n",
    "plt.show()"
   ]
  },
  {
   "cell_type": "markdown",
   "id": "577a5237",
   "metadata": {},
   "source": [
    "# Grade Wise Expense"
   ]
  },
  {
   "cell_type": "code",
   "execution_count": 18,
   "id": "dc03c847",
   "metadata": {},
   "outputs": [
    {
     "data": {
      "text/html": [
       "<div>\n",
       "<style scoped>\n",
       "    .dataframe tbody tr th:only-of-type {\n",
       "        vertical-align: middle;\n",
       "    }\n",
       "\n",
       "    .dataframe tbody tr th {\n",
       "        vertical-align: top;\n",
       "    }\n",
       "\n",
       "    .dataframe thead th {\n",
       "        text-align: right;\n",
       "    }\n",
       "</style>\n",
       "<table border=\"1\" class=\"dataframe\">\n",
       "  <thead>\n",
       "    <tr style=\"text-align: right;\">\n",
       "      <th></th>\n",
       "      <th>Expense_Semester</th>\n",
       "      <th>Expense_Accommodation</th>\n",
       "    </tr>\n",
       "    <tr>\n",
       "      <th>SitKCSE</th>\n",
       "      <th></th>\n",
       "      <th></th>\n",
       "    </tr>\n",
       "  </thead>\n",
       "  <tbody>\n",
       "    <tr>\n",
       "      <th>Central</th>\n",
       "      <td>29207.500000</td>\n",
       "      <td>29008.583333</td>\n",
       "    </tr>\n",
       "    <tr>\n",
       "      <th>Coast</th>\n",
       "      <td>31808.625000</td>\n",
       "      <td>28235.500000</td>\n",
       "    </tr>\n",
       "    <tr>\n",
       "      <th>Eastern</th>\n",
       "      <td>31076.000000</td>\n",
       "      <td>25861.333333</td>\n",
       "    </tr>\n",
       "    <tr>\n",
       "      <th>Nairobi</th>\n",
       "      <td>28198.916667</td>\n",
       "      <td>21091.583333</td>\n",
       "    </tr>\n",
       "    <tr>\n",
       "      <th>Nyanza</th>\n",
       "      <td>23561.900000</td>\n",
       "      <td>30034.300000</td>\n",
       "    </tr>\n",
       "    <tr>\n",
       "      <th>Rift Valley</th>\n",
       "      <td>30363.300000</td>\n",
       "      <td>19795.000000</td>\n",
       "    </tr>\n",
       "    <tr>\n",
       "      <th>Western</th>\n",
       "      <td>19963.750000</td>\n",
       "      <td>25587.000000</td>\n",
       "    </tr>\n",
       "  </tbody>\n",
       "</table>\n",
       "</div>"
      ],
      "text/plain": [
       "             Expense_Semester  Expense_Accommodation\n",
       "SitKCSE                                             \n",
       "Central          29207.500000           29008.583333\n",
       "Coast            31808.625000           28235.500000\n",
       "Eastern          31076.000000           25861.333333\n",
       "Nairobi          28198.916667           21091.583333\n",
       "Nyanza           23561.900000           30034.300000\n",
       "Rift Valley      30363.300000           19795.000000\n",
       "Western          19963.750000           25587.000000"
      ]
     },
     "execution_count": 18,
     "metadata": {},
     "output_type": "execute_result"
    }
   ],
   "source": [
    "GB=df.groupby(\"SitKCSE\").agg({'Expense_Semester':'mean','Expense_Accommodation':'mean'})\n",
    "GB"
   ]
  },
  {
   "cell_type": "code",
   "execution_count": 19,
   "id": "b218f107",
   "metadata": {},
   "outputs": [
    {
     "data": {
      "image/png": "[encoded data removed]",
      "text/plain": [
       "<Figure size 1000x700 with 2 Axes>"
      ]
     },
     "metadata": {},
     "output_type": "display_data"
    }
   ],
   "source": [
    "plt.figure(figsize=(10,7))\n",
    "custom_cmap=\"Blues\"\n",
    "sns.heatmap(GB,annot=True,cmap=custom_cmap)\n",
    "plt.title(\"Relationship between Previous_Exam_MeanGrade and Expense\")\n",
    "plt.show()"
   ]
  },
  {
   "cell_type": "markdown",
   "id": "4bf3ffb9",
   "metadata": {},
   "source": [
    "# Detecting Outliers in the data"
   ]
  },
  {
   "cell_type": "code",
   "execution_count": 16,
   "id": "8fd0eb0c",
   "metadata": {},
   "outputs": [
    {
     "data": {
      "image/png": "[encoded data removed]",
      "text/plain": [
       "<Figure size 640x480 with 1 Axes>"
      ]
     },
     "metadata": {},
     "output_type": "display_data"
    }
   ],
   "source": [
    "sns.boxplot(data=df,x=\"Expense_Semester\",color=\"Pink\")\n",
    "plt.show()"
   ]
  },
  {
   "cell_type": "code",
   "execution_count": 17,
   "id": "eb2cf6bb",
   "metadata": {},
   "outputs": [
    {
     "data": {
      "image/png": "[encoded data removed]",
      "text/plain": [
       "<Figure size 640x480 with 1 Axes>"
      ]
     },
     "metadata": {},
     "output_type": "display_data"
    }
   ],
   "source": [
    "sns.boxplot(data=df,x=\"Expense_Accommodation\",color=\"violet\")\n",
    "plt.show()"
   ]
  },
  {
   "cell_type": "code",
   "execution_count": null,
   "id": "fd2762ca",
   "metadata": {},
   "outputs": [],
   "source": []
  }
 ],
 "metadata": {
  "kernelspec": {
   "display_name": "Python 3 (ipykernel)",
   "language": "python",
   "name": "python3"
  },
  "language_info": {
   "codemirror_mode": {
    "name": "ipython",
    "version": 3
   },
   "file_extension": ".py",
   "mimetype": "text/x-python",
   "name": "python",
   "nbconvert_exporter": "python",
   "pygments_lexer": "ipython3",
   "version": "3.11.5"
  }
 },
 "nbformat": 4,
 "nbformat_minor": 5
}
